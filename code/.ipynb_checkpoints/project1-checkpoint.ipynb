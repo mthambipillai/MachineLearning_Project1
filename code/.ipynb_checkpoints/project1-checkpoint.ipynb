{
 "cells": [
  {
   "cell_type": "code",
   "execution_count": 46,
   "metadata": {
    "collapsed": false
   },
   "outputs": [
    {
     "name": "stdout",
     "output_type": "stream",
     "text": [
      "The autoreload extension is already loaded. To reload it, use:\n",
      "  %reload_ext autoreload\n"
     ]
    }
   ],
   "source": [
    "# Useful starting lines\n",
    "%matplotlib inline\n",
    "import numpy as np\n",
    "import matplotlib.pyplot as plt\n",
    "%load_ext autoreload\n",
    "%autoreload 2"
   ]
  },
  {
   "cell_type": "markdown",
   "metadata": {},
   "source": [
    "## Load the training data into feature matrix, class labels, and event ids:"
   ]
  },
  {
   "cell_type": "code",
   "execution_count": 53,
   "metadata": {
    "collapsed": false
   },
   "outputs": [],
   "source": [
    "from util.proj1_helpers import *\n",
    "from util.helpers import *\n",
    "DATA_TRAIN_PATH =\"data/train.csv\"  \n",
    "y, tX, ids = load_csv_data(DATA_TRAIN_PATH)\n",
    "tX, mean_x, std_x = standardize(tX)\n",
    "\n",
    "def build_k_indices(y, k_fold, seed):\n",
    "    \"\"\"build k indices for k-fold.\"\"\"\n",
    "    num_row = y.shape[0]\n",
    "    interval = int(num_row / k_fold)\n",
    "    np.random.seed(seed)\n",
    "    indices = np.random.permutation(num_row)\n",
    "    k_indices = [indices[k * interval: (k + 1) * interval]\n",
    "                 for k in range(k_fold)]\n",
    "    return np.array(k_indices)\n"
   ]
  },
  {
   "cell_type": "markdown",
   "metadata": {},
   "source": [
    "## Do your thing crazy machine learning thing here :) ..."
   ]
  },
  {
   "cell_type": "code",
   "execution_count": 48,
   "metadata": {
    "collapsed": false
   },
   "outputs": [],
   "source": [
    "from machine_learning_tools.costs import *\n",
    "\n",
    "from machine_learning_tools.gradient_descent import *\n",
    "from machine_learning_tools.stochastic_gradient_descent import *\n",
    "\n",
    "from machine_learning_tools.least_squares import *\n",
    "from machine_learning_tools.ridge_regression import *"
   ]
  },
  {
   "cell_type": "code",
   "execution_count": 59,
   "metadata": {
    "collapsed": false,
    "scrolled": false
   },
   "outputs": [],
   "source": [
    "def cross_validation(y, x, k_indices, k, degree):\n",
    "    \"\"\"return the loss of ridge regression.\"\"\"\n",
    "    test_y = y[k_indices[k]]\n",
    "    test_x = x[k_indices[k]]\n",
    "    k_indices =np.delete(k_indices,k,0)\n",
    "    train_y = y[k_indices.flatten()]\n",
    "    train_x = x[k_indices.flatten()]\n",
    "    \n",
    "    fi_train_x=build_poly(train_x,degree)\n",
    "    fi_test_x=build_poly(test_x,degree)\n",
    "    \n",
    "    w = least_squares(train_y,fi_train_x)\n",
    "    loss_tr = np.sqrt(2*calculate_mse(train_y-fi_train_x.dot(w)))\n",
    "    loss_te = np.sqrt(2*calculate_mse(test_y-fi_test_x.dot(w)))\n",
    "    \n",
    "    return loss_tr, loss_te\n",
    "\n",
    "#fi=build_poly(tX,30)\n",
    "#weight = least_squares(y,fi)\n",
    "#print(weight)\n",
    "#rmse_ls = np.sqrt(2*compute_loss(y,fi,weight))\n",
    "#print(rmse_ls)"
   ]
  },
  {
   "cell_type": "code",
   "execution_count": 67,
   "metadata": {
    "collapsed": false
   },
   "outputs": [
    {
     "name": "stdout",
     "output_type": "stream",
     "text": [
      "37.481753416\n",
      "7717.90403815\n"
     ]
    }
   ],
   "source": [
    "from util.plots import cross_validation_visualization\n",
    "\n",
    "def cross_validation_demo():\n",
    "    seed = 6\n",
    "    degree = 30\n",
    "    k_fold = 4\n",
    "    #lambdas = np.logspace(-4, 0, 30)\n",
    "    # split data in k fold\n",
    "    k_indices = build_k_indices(y, k_fold, seed)\n",
    "    # define lists to store the loss of training data and test data\n",
    "    rmse_tr = []\n",
    "    rmse_te = []\n",
    "    rmse_tr_lambda=0\n",
    "    rmse_te_lambda=0\n",
    "    for k in range(k_fold):\n",
    "        rmse_tr_k, rmse_te_k = cross_validation(y,tX,k_indices,k,degree)\n",
    "        rmse_tr_lambda+=rmse_tr_k\n",
    "        rmse_te_lambda+=rmse_te_k\n",
    "    print(rmse_tr_lambda/k_fold)\n",
    "    print(rmse_te_lambda/k_fold)\n",
    "    #rmse_tr.append(rmse_tr_lambda/k_fold) \n",
    "    #rmse_te.append(rmse_te_lambda/k_fold)    \n",
    "    \n",
    "    #cross_validation_visualization(lambdas, rmse_tr, rmse_te)\n",
    "\n",
    "cross_validation_demo()"
   ]
  },
  {
   "cell_type": "code",
   "execution_count": null,
   "metadata": {
    "collapsed": false
   },
   "outputs": [],
   "source": [
    "fi_r = build_poly(tX, 30) #degree should be much bigger than 30, but it takes long to execute\n",
    "weight_r = ridge_regression(y, fi_r, 1000)\n",
    "print(weight_r) #because values of fi function are very big, lambda factor doesn't do much and weight doesn't become sparse\n",
    "                #as it should be: HINT: change function fi in a right way, or put really big lambda (10^100)\n",
    "rmse_r = np.sqrt(2*compute_mse_ridge(y,fi_r,weight_r, 1000))\n",
    "print(rmse_r)"
   ]
  },
  {
   "cell_type": "code",
   "execution_count": 6,
   "metadata": {
    "collapsed": true
   },
   "outputs": [],
   "source": [
    "#TODO : \n",
    "# 1) look at data to see if there are special values to be changed\n",
    "#(for example there are a lot of -999 values in the train.csv i dont know what we should do with them)\n",
    "# if nb of -999 is greater than x% drop the feature. otherwise learn about the distribution of the values to randomly\n",
    "# assign values according to this distribution\n",
    "# 2) standardize features (subtract mean like in lab1)\n",
    "# 3) test first version to see if it works : use 'logistic_regression' on data and submit a first time on kaggle\n",
    "# when it works, improve with following : \n",
    "# 4) do cross-validation on data\n",
    "# 5) feature-processing : maybe some features are not necessary, or add features that are a power of an existing feature\n"
   ]
  },
  {
   "cell_type": "markdown",
   "metadata": {},
   "source": [
    "## Generate predictions and save ouput in csv format for submission:"
   ]
  },
  {
   "cell_type": "code",
   "execution_count": 68,
   "metadata": {
    "collapsed": false
   },
   "outputs": [],
   "source": [
    "DATA_TEST_PATH = \"data/test.csv\"\n",
    "_, tX_test, ids_test = load_csv_data(DATA_TEST_PATH)\n",
    "tX_test, mean, std = standardize(tX_test)\n",
    "tX_test = np.c_[np.ones((tX_test.shape[0], 1)), tX_test]"
   ]
  },
  {
   "cell_type": "code",
   "execution_count": 69,
   "metadata": {
    "collapsed": false
   },
   "outputs": [],
   "source": [
    "def create_csv_submission(ids, y_pred, name):\n",
    "    \"\"\"\n",
    "    Creates an output file in csv format for submission to kaggle\n",
    "    Arguments: ids (event ids associated with each prediction)\n",
    "               y_pred (predicted class labels)\n",
    "               name (string name of .csv output file to be created)\n",
    "    \"\"\"\n",
    "    with open(name, 'w') as csvfile:\n",
    "        fieldnames = ['Id', 'Prediction']\n",
    "        writer = csv.DictWriter(csvfile, delimiter=\",\", fieldnames=fieldnames, lineterminator='\\n')\n",
    "        writer.writeheader()\n",
    "        for r1, r2 in zip(ids, y_pred):\n",
    "            writer.writerow({'Id':int(r1),'Prediction':int(r2)})\n",
    "\n",
    "OUTPUT_PATH = 'predictions.csv' \n",
    "y_pred = predict_labels(weight, tX_test)\n",
    "create_csv_submission(ids_test, y_pred, OUTPUT_PATH)"
   ]
  },
  {
   "cell_type": "code",
   "execution_count": null,
   "metadata": {
    "collapsed": true
   },
   "outputs": [],
   "source": []
  }
 ],
 "metadata": {
  "anaconda-cloud": {},
  "kernelspec": {
   "display_name": "Python [Root]",
   "language": "python",
   "name": "Python [Root]"
  },
  "language_info": {
   "codemirror_mode": {
    "name": "ipython",
    "version": 3
   },
   "file_extension": ".py",
   "mimetype": "text/x-python",
   "name": "python",
   "nbconvert_exporter": "python",
   "pygments_lexer": "ipython3",
   "version": "3.5.2"
  }
 },
 "nbformat": 4,
 "nbformat_minor": 0
}
