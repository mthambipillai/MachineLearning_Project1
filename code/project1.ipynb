{
 "cells": [
  {
   "cell_type": "code",
   "execution_count": 27,
   "metadata": {
    "collapsed": false
   },
   "outputs": [
    {
     "name": "stdout",
     "output_type": "stream",
     "text": [
      "The autoreload extension is already loaded. To reload it, use:\n",
      "  %reload_ext autoreload\n"
     ]
    }
   ],
   "source": [
    "# Useful starting lines\n",
    "%matplotlib inline\n",
    "import numpy as np\n",
    "import matplotlib.pyplot as plt\n",
    "%load_ext autoreload\n",
    "%autoreload 2"
   ]
  },
  {
   "cell_type": "markdown",
   "metadata": {},
   "source": [
    "## Load the training data into feature matrix, class labels, and event ids:"
   ]
  },
  {
   "cell_type": "code",
   "execution_count": 28,
   "metadata": {
    "collapsed": false
   },
   "outputs": [],
   "source": [
    "from util.proj1_helpers import *\n",
    "from util.helpers import *\n",
    "from data_tools.feature_processing import *\n",
    "DATA_TRAIN_PATH =\"data/train.csv\"  \n",
    "y, tX, ids = load_csv_data(DATA_TRAIN_PATH)\n",
    "tX, mean_x, std_x = standardize(tX)"
   ]
  },
  {
   "cell_type": "code",
   "execution_count": 29,
   "metadata": {
    "collapsed": true
   },
   "outputs": [],
   "source": [
    "def calculate_prob(tX, num_of_intervals):\n",
    "    size = (np.max(tX) - np.min(tX))/num_of_intervals\n",
    "    intervals_x = [0]*num_of_intervals\n",
    "    intervals_p = [0]*num_of_intervals\n",
    "    a = np.array(tX)\n",
    "    for j in range(num_of_intervals):\n",
    "        intervals_p[j] = ((np.min(tX)+j*size < a) & (a < np.min(tX)+(j+1)*size)).sum()\n",
    "        intervals_x[j] = (np.min(tX)+j*size + np.min(tX)+(j+1)*size)/2\n",
    "    return intervals_x, intervals_p\n",
    "\n",
    "def make_distribution(x,prob,size):\n",
    "    values = []\n",
    "    for i in range(len(prob)):\n",
    "         values = values + [x[i]]*int(size*prob[i]/sum(prob))\n",
    "    if size>len(values): \n",
    "        max_prob = max(prob)\n",
    "        max_index = prob.index(max_prob)\n",
    "        values = values+[x[max_index]]*(size-len(values))\n",
    "    return values"
   ]
  },
  {
   "cell_type": "code",
   "execution_count": 30,
   "metadata": {
    "collapsed": false
   },
   "outputs": [
    {
     "name": "stdout",
     "output_type": "stream",
     "text": [
      "30\n"
     ]
    }
   ],
   "source": [
    "lista = []\n",
    "for i in range(tX.shape[1]):\n",
    "    if -999 in tX[:,i]: lista.append(i)\n",
    "for i in lista:\n",
    "    tX_tmp = list(filter((-999.0).__ne__, tX[:,i]))\n",
    "    x, prob = calculate_prob(tX_tmp,100)\n",
    "    #plt.plot(x,prob)\\n\",\n",
    "    #plt.show()\\n\",\n",
    "    means = make_distribution(x,prob,list(tX[:,i]).count(-999.0))\n",
    "    np.random.shuffle(means)\n",
    "    np.place(tX[:,i], tX[:,i] == -999.0, means)\n",
    "print(tX.shape[1])"
   ]
  },
  {
   "cell_type": "code",
   "execution_count": 36,
   "metadata": {
    "collapsed": false
   },
   "outputs": [
    {
     "name": "stdout",
     "output_type": "stream",
     "text": [
      "13\n"
     ]
    }
   ],
   "source": [
    "tX = feature_process(tX)\n",
    "tX, mean_x, std_x = standardize(tX)\n",
    "print(tX.shape[1])"
   ]
  },
  {
   "cell_type": "markdown",
   "metadata": {},
   "source": [
    "## Do your thing crazy machine learning thing here :) ..."
   ]
  },
  {
   "cell_type": "code",
   "execution_count": 37,
   "metadata": {
    "collapsed": false
   },
   "outputs": [],
   "source": [
    "from machine_learning_tools.costs import *\n",
    "\n",
    "from machine_learning_tools.gradient_descent import *\n",
    "from machine_learning_tools.stochastic_gradient_descent import *\n",
    "\n",
    "from machine_learning_tools.least_squares import *\n",
    "from machine_learning_tools.ridge_regression import *\n",
    "from data_tools.cross_validation import *"
   ]
  },
  {
   "cell_type": "code",
   "execution_count": 38,
   "metadata": {
    "collapsed": false
   },
   "outputs": [
    {
     "name": "stdout",
     "output_type": "stream",
     "text": [
      "6.11679819484\n",
      "23242.6078118\n"
     ]
    }
   ],
   "source": [
    "from util.plots import cross_validation_visualization\n",
    "\n",
    "def cross_validation_demo():\n",
    "    seed = 6\n",
    "    degree = 30\n",
    "    k_fold = 4\n",
    "    #lambdas = np.logspace(-4, 0, 30)\n",
    "    # split data in k fold\n",
    "    k_indices = build_k_indices(y, k_fold, seed)\n",
    "    # define lists to store the loss of training data and test data\n",
    "    rmse_tr = []\n",
    "    rmse_te = []\n",
    "    rmse_tr_lambda=0\n",
    "    rmse_te_lambda=0\n",
    "    for k in range(k_fold):\n",
    "        rmse_tr_k, rmse_te_k = cross_validation(y,tX,k_indices,k,degree)\n",
    "        rmse_tr_lambda+=rmse_tr_k\n",
    "        rmse_te_lambda+=rmse_te_k\n",
    "    print(rmse_tr_lambda/k_fold)\n",
    "    print(rmse_te_lambda/k_fold)\n",
    "    #rmse_tr.append(rmse_tr_lambda/k_fold) \n",
    "    #rmse_te.append(rmse_te_lambda/k_fold)    \n",
    "    \n",
    "    #cross_validation_visualization(lambdas, rmse_tr, rmse_te)\n",
    "\n",
    "cross_validation_demo()"
   ]
  },
  {
   "cell_type": "code",
   "execution_count": 39,
   "metadata": {
    "collapsed": false
   },
   "outputs": [
    {
     "name": "stdout",
     "output_type": "stream",
     "text": [
      "[  1.72753659e+00  -2.63402936e-01   1.92650699e-02  -2.36599210e-03\n",
      "  -1.23968315e-03  -1.55771923e-03   9.40127691e-04  -1.98436369e-04\n",
      "   2.10329203e-05  -1.15869248e-06   2.49409207e-08   4.76019616e-10\n",
      "  -2.96307690e-11   9.99682695e-15   1.64660663e-14  -1.59629868e-16\n",
      "   2.20626118e-18  -1.06166203e-19  -3.26328000e-21   5.02412533e-23\n",
      "   5.03864684e-24  -1.13853984e-25   4.83062737e-29  -2.99861696e-29\n",
      "   1.41602354e-30   1.39854942e-32  -4.19545708e-34  -1.28527198e-35\n",
      "  -2.71627887e-37   1.97579448e-38  -2.02048906e-40]\n",
      "78.1905328434\n"
     ]
    }
   ],
   "source": [
    "fi_r = build_poly(tX, 30) #degree should be much bigger than 30, but it takes long to execute\n",
    "weight_r = ridge_regression(y, fi_r, 1000)\n",
    "print(weight_r) #because values of fi function are very big, lambda factor doesn't do much and weight doesn't become sparse\n",
    "                #as it should be: HINT: change function fi in a right way, or put really big lambda (10^100)\n",
    "rmse_r = np.sqrt(2*compute_mse_ridge(y,fi_r,weight_r, 1000))\n",
    "print(rmse_r)"
   ]
  },
  {
   "cell_type": "code",
   "execution_count": 40,
   "metadata": {
    "collapsed": true
   },
   "outputs": [],
   "source": [
    "#TODO : \n",
    "# 1) look at data to see if there are special values to be changed\n",
    "#(for example there are a lot of -999 values in the train.csv i dont know what we should do with them)\n",
    "# if nb of -999 is greater than x% drop the feature. otherwise learn about the distribution of the values to randomly\n",
    "# assign values according to this distribution\n",
    "# 2) standardize features (subtract mean like in lab1)\n",
    "# 3) test first version to see if it works : use 'logistic_regression' on data and submit a first time on kaggle\n",
    "# when it works, improve with following : \n",
    "# 4) do cross-validation on data\n",
    "# 5) feature-processing : maybe some features are not necessary, or add features that are a power of an existing feature\n"
   ]
  },
  {
   "cell_type": "markdown",
   "metadata": {},
   "source": [
    "## Generate predictions and save ouput in csv format for submission:"
   ]
  },
  {
   "cell_type": "code",
   "execution_count": 41,
   "metadata": {
    "collapsed": false
   },
   "outputs": [],
   "source": [
    "DATA_TEST_PATH = \"data/test.csv\"\n",
    "_, tX_test, ids_test = load_csv_data(DATA_TEST_PATH)\n",
    "tX_test, mean, std = standardize(tX_test)\n",
    "tX_test = np.c_[np.ones((tX_test.shape[0], 1)), tX_test]"
   ]
  },
  {
   "cell_type": "code",
   "execution_count": 43,
   "metadata": {
    "collapsed": false
   },
   "outputs": [],
   "source": [
    "OUTPUT_PATH = 'predictions.csv'\n",
    "fi = build_poly(tX, 30)\n",
    "weight = least_squares(y,fi)\n",
    "y_pred = predict_labels(weight, tX_test)\n",
    "create_csv_submission(ids_test, y_pred, OUTPUT_PATH)"
   ]
  },
  {
   "cell_type": "code",
   "execution_count": null,
   "metadata": {
    "collapsed": true
   },
   "outputs": [],
   "source": []
  }
 ],
 "metadata": {
  "anaconda-cloud": {},
  "kernelspec": {
   "display_name": "Python [Root]",
   "language": "python",
   "name": "Python [Root]"
  },
  "language_info": {
   "codemirror_mode": {
    "name": "ipython",
    "version": 3
   },
   "file_extension": ".py",
   "mimetype": "text/x-python",
   "name": "python",
   "nbconvert_exporter": "python",
   "pygments_lexer": "ipython3",
   "version": "3.5.2"
  }
 },
 "nbformat": 4,
 "nbformat_minor": 0
}
